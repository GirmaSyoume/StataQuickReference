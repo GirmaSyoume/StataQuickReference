{
 "cells": [
  {
   "cell_type": "markdown",
   "metadata": {},
   "source": [
    "# Demonstrate Stata in Jupyter Notebooks\n",
    "\n",
    "More information:\n",
    "\n",
    "https://kylebarron.github.io/stata_kernel/getting_started/"
   ]
  },
  {
   "cell_type": "code",
   "execution_count": 1,
   "metadata": {},
   "outputs": [
    {
     "name": "stdout",
     "output_type": "stream",
     "text": [
      "\n",
      "\n",
      "\n",
      "\n",
      "(1978 Automobile Data)\n"
     ]
    }
   ],
   "source": [
    "set more off\n",
    "clear all\n",
    "set linesize 100\n",
    "sysuse auto"
   ]
  },
  {
   "cell_type": "code",
   "execution_count": 2,
   "metadata": {},
   "outputs": [
    {
     "name": "stdout",
     "output_type": "stream",
     "text": [
      "\n",
      "Contains data from /Applications/Stata/ado/base/a/auto.dta\n",
      "  obs:            74                          1978 Automobile Data\n",
      " vars:            12                          13 Apr 2016 17:45\n",
      " size:         3,182                          (_dta has notes)\n",
      "----------------------------------------------------------------------------------------------------\n",
      "              storage   display    value\n",
      "variable name   type    format     label      variable label\n",
      "----------------------------------------------------------------------------------------------------\n",
      "make            str18   %-18s                 Make and Model\n",
      "price           int     %8.0gc                Price\n",
      "mpg             int     %8.0g                 Mileage (mpg)\n",
      "rep78           int     %8.0g                 Repair Record 1978\n",
      "headroom        float   %6.1f                 Headroom (in.)\n",
      "trunk           int     %8.0g                 Trunk space (cu. ft.)\n",
      "weight          int     %8.0gc                Weight (lbs.)\n",
      "length          int     %8.0g                 Length (in.)\n",
      "turn            int     %8.0g                 Turn Circle (ft.)\n",
      "displacement    int     %8.0g                 Displacement (cu. in.)\n",
      "gear_ratio      float   %6.2f                 Gear Ratio\n",
      "foreign         byte    %8.0g      origin     Car type\n",
      "----------------------------------------------------------------------------------------------------\n",
      "Sorted by: foreign\n"
     ]
    }
   ],
   "source": [
    "desc"
   ]
  },
  {
   "cell_type": "code",
   "execution_count": 3,
   "metadata": {},
   "outputs": [
    {
     "name": "stdout",
     "output_type": "stream",
     "text": [
      "\n",
      "      Source |       SS           df       MS      Number of obs   =        74\n",
      "-------------+----------------------------------   F(5, 68)        =     31.82\n",
      "       Model |  1711.80587         5  342.361174   Prob > F        =    0.0000\n",
      "    Residual |  731.653589        68  10.7596116   R-squared       =    0.7006\n",
      "-------------+----------------------------------   Adj R-squared   =    0.6785\n",
      "       Total |  2443.45946        73  33.4720474   Root MSE        =    3.2802\n",
      "\n",
      "-------------------------------------------------------------------------------------------\n",
      "                      mpg |      Coef.   Std. Err.      t    P>|t|     [95% Conf. Interval]\n",
      "--------------------------+----------------------------------------------------------------\n",
      "                   weight |  -.0131718   .0047681    -2.76   0.007    -.0226864   -.0036571\n",
      "                          |\n",
      "        c.weight#c.weight |   1.11e-06   7.30e-07     1.52   0.132    -3.44e-07    2.57e-06\n",
      "                          |\n",
      "                  foreign |\n",
      "                 Foreign  |   1.592242   23.34741     0.07   0.946    -44.99679    48.18128\n",
      "                          |\n",
      "         foreign#c.weight |\n",
      "                 Foreign  |  -.0000464   .0184428    -0.00   0.998    -.0368485    .0367557\n",
      "                          |\n",
      "foreign#c.weight#c.weight |\n",
      "                 Foreign  |  -5.63e-07   3.57e-06    -0.16   0.875    -7.68e-06    6.56e-06\n",
      "                          |\n",
      "                    _cons |   50.74551   7.618436     6.66   0.000     35.54315    65.94786\n",
      "-------------------------------------------------------------------------------------------\n"
     ]
    }
   ],
   "source": [
    "reg mpg c.weight##c.weight##i.foreign"
   ]
  },
  {
   "cell_type": "code",
   "execution_count": 4,
   "metadata": {},
   "outputs": [],
   "source": [
    "qui margins, at(weight=(1000(500)4800) foreign=(0 1))"
   ]
  },
  {
   "cell_type": "code",
   "execution_count": 5,
   "metadata": {},
   "outputs": [
    {
     "name": "stdout",
     "output_type": "stream",
     "text": [
      ". marginsplot, noci scheme(lean2wide) title(Predicted margins of miles per gall\n",
      "> on by vehicle weight) ytitle(Miles Per Gallon) xtitle(Vehicle Weight in Pound\n",
      "> s)\n",
      "\n",
      "  Variables that uniquely identify margins: weight foreign\n",
      "\n",
      ". noi gr export /Users/adamnelson/.stata_kernel_cache/graph${stata_kernel_graph\n",
      "> _counter}.svg, width(600) replace        \n"
     ]
    },
    {
     "data": {
      "application/pdf": "[encoded data removed]",
      "image/svg+xml": [
       "<?xml version=\"1.0\" encoding=\"UTF-8\" standalone=\"no\"?>\n",
       "<!-- This is a Stata 15.1 generated SVG file (http://www.stata.com) -->\n",
       "\n",
       "<svg version=\"1.1\" width=\"600px\" height=\"300px\" viewBox=\"0 0 4320 2160\" xmlns=\"http://www.w3.org/2000/svg\" xmlns:xlink=\"http://www.w3.org/1999/xlink\">\n",
       "\t<desc>Stata Graph - Graph</desc>\n",
       "\t<rect x=\"0\" y=\"0\" width=\"4320\" height=\"2160\" style=\"fill:#FFFFFF;stroke:none\"/>\n",
       "\t<rect x=\"0.00\" y=\"0.00\" width=\"4320.00\" height=\"2160.00\" style=\"fill:#FFFFFF\"/>\n",
       "\t<rect x=\"2.16\" y=\"2.16\" width=\"4315.68\" height=\"2155.68\" style=\"fill:none;stroke:#FFFFFF;stroke-width:4.32\"/>\n",
       "\t<rect x=\"385.29\" y=\"221.94\" width=\"3203.41\" height=\"1585.57\" style=\"fill:#FFFFFF\"/>\n",
       "\t<rect x=\"387.45\" y=\"224.10\" width=\"3199.09\" height=\"1581.25\" style=\"fill:none;stroke:#FFFFFF;stroke-width:4.32\"/>\n",
       "\t<line x1=\"385.29\" y1=\"1759.99\" x2=\"3588.70\" y2=\"1759.99\" style=\"stroke:#000000;stroke-width:3.00\"/>\n",
       "\t<line x1=\"385.29\" y1=\"1387.39\" x2=\"3588.70\" y2=\"1387.39\" style=\"stroke:#000000;stroke-width:3.00\"/>\n",
       "\t<line x1=\"385.29\" y1=\"1014.80\" x2=\"3588.70\" y2=\"1014.80\" style=\"stroke:#000000;stroke-width:3.00\"/>\n",
       "\t<line x1=\"385.29\" y1=\"642.06\" x2=\"3588.70\" y2=\"642.06\" style=\"stroke:#000000;stroke-width:3.00\"/>\n",
       "\t<line x1=\"385.29\" y1=\"269.46\" x2=\"3588.70\" y2=\"269.46\" style=\"stroke:#000000;stroke-width:3.00\"/>\n",
       "\t<line x1=\"432.81\" y1=\"318.46\" x2=\"876.83\" y2=\"512.06\" stroke-linecap=\"round\" style=\"stroke:#000000;stroke-width:6.48\"/>\n",
       "\t<line x1=\"876.83\" y1=\"512.06\" x2=\"1320.84\" y2=\"684.86\" stroke-linecap=\"round\" style=\"stroke:#000000;stroke-width:6.48\"/>\n",
       "\t<line x1=\"1320.84\" y1=\"684.86\" x2=\"1764.86\" y2=\"837.00\" stroke-linecap=\"round\" style=\"stroke:#000000;stroke-width:6.48\"/>\n",
       "\t<line x1=\"1764.86\" y1=\"837.00\" x2=\"2209.01\" y2=\"968.36\" stroke-linecap=\"round\" style=\"stroke:#000000;stroke-width:6.48\"/>\n",
       "\t<line x1=\"2209.01\" y1=\"968.36\" x2=\"2653.02\" y2=\"1079.06\" stroke-linecap=\"round\" style=\"stroke:#000000;stroke-width:6.48\"/>\n",
       "\t<line x1=\"2653.02\" y1=\"1079.06\" x2=\"3097.03\" y2=\"1168.83\" stroke-linecap=\"round\" style=\"stroke:#000000;stroke-width:6.48\"/>\n",
       "\t<line x1=\"3097.03\" y1=\"1168.83\" x2=\"3541.05\" y2=\"1238.09\" stroke-linecap=\"round\" style=\"stroke:#000000;stroke-width:6.48\"/>\n",
       "\t<circle cx=\"432.81\" cy=\"318.46\" r=\"16.47\" style=\"fill:none;stroke:#000000;stroke-width:6.48\"/>\n",
       "\t<circle cx=\"876.83\" cy=\"512.06\" r=\"16.47\" style=\"fill:none;stroke:#000000;stroke-width:6.48\"/>\n",
       "\t<circle cx=\"1320.84\" cy=\"684.86\" r=\"16.47\" style=\"fill:none;stroke:#000000;stroke-width:6.48\"/>\n",
       "\t<circle cx=\"1764.86\" cy=\"837.00\" r=\"16.47\" style=\"fill:none;stroke:#000000;stroke-width:6.48\"/>\n",
       "\t<circle cx=\"2209.01\" cy=\"968.36\" r=\"16.47\" style=\"fill:none;stroke:#000000;stroke-width:6.48\"/>\n",
       "\t<circle cx=\"2653.02\" cy=\"1079.06\" r=\"16.47\" style=\"fill:none;stroke:#000000;stroke-width:6.48\"/>\n",
       "\t<circle cx=\"3097.03\" cy=\"1168.83\" r=\"16.47\" style=\"fill:none;stroke:#000000;stroke-width:6.48\"/>\n",
       "\t<circle cx=\"3541.05\" cy=\"1238.09\" r=\"16.47\" style=\"fill:none;stroke:#000000;stroke-width:6.48\"/>\n",
       "\t<line x1=\"432.81\" y1=\"281.88\" x2=\"876.83\" y2=\"502.47\" stroke-linecap=\"round\" style=\"stroke:#000000;stroke-width:6.48\"/>\n",
       "\t<line x1=\"876.83\" y1=\"502.47\" x2=\"1320.84\" y2=\"712.93\" stroke-linecap=\"round\" style=\"stroke:#000000;stroke-width:6.48\"/>\n",
       "\t<line x1=\"1320.84\" y1=\"712.93\" x2=\"1764.86\" y2=\"913.14\" stroke-linecap=\"round\" style=\"stroke:#000000;stroke-width:6.48\"/>\n",
       "\t<line x1=\"1764.86\" y1=\"913.14\" x2=\"2209.01\" y2=\"1103.09\" stroke-linecap=\"round\" style=\"stroke:#000000;stroke-width:6.48\"/>\n",
       "\t<line x1=\"2209.01\" y1=\"1103.09\" x2=\"2653.02\" y2=\"1282.77\" stroke-linecap=\"round\" style=\"stroke:#000000;stroke-width:6.48\"/>\n",
       "\t<line x1=\"2653.02\" y1=\"1282.77\" x2=\"3097.03\" y2=\"1452.20\" stroke-linecap=\"round\" style=\"stroke:#000000;stroke-width:6.48\"/>\n",
       "\t<line x1=\"3097.03\" y1=\"1452.20\" x2=\"3541.05\" y2=\"1611.49\" stroke-linecap=\"round\" style=\"stroke:#000000;stroke-width:6.48\"/>\n",
       "\t<circle cx=\"432.81\" cy=\"281.88\" r=\"19.71\" style=\"fill:#000000\"/>\n",
       "\t<circle cx=\"432.81\" cy=\"281.88\" r=\"16.47\" style=\"fill:none;stroke:#000000;stroke-width:6.48\"/>\n",
       "\t<circle cx=\"876.83\" cy=\"502.47\" r=\"19.71\" style=\"fill:#000000\"/>\n",
       "\t<circle cx=\"876.83\" cy=\"502.47\" r=\"16.47\" style=\"fill:none;stroke:#000000;stroke-width:6.48\"/>\n",
       "\t<circle cx=\"1320.84\" cy=\"712.93\" r=\"19.71\" style=\"fill:#000000\"/>\n",
       "\t<circle cx=\"1320.84\" cy=\"712.93\" r=\"16.47\" style=\"fill:none;stroke:#000000;stroke-width:6.48\"/>\n",
       "\t<circle cx=\"1764.86\" cy=\"913.14\" r=\"19.71\" style=\"fill:#000000\"/>\n",
       "\t<circle cx=\"1764.86\" cy=\"913.14\" r=\"16.47\" style=\"fill:none;stroke:#000000;stroke-width:6.48\"/>\n",
       "\t<circle cx=\"2209.01\" cy=\"1103.09\" r=\"19.71\" style=\"fill:#000000\"/>\n",
       "\t<circle cx=\"2209.01\" cy=\"1103.09\" r=\"16.47\" style=\"fill:none;stroke:#000000;stroke-width:6.48\"/>\n",
       "\t<circle cx=\"2653.02\" cy=\"1282.77\" r=\"19.71\" style=\"fill:#000000\"/>\n",
       "\t<circle cx=\"2653.02\" cy=\"1282.77\" r=\"16.47\" style=\"fill:none;stroke:#000000;stroke-width:6.48\"/>\n",
       "\t<circle cx=\"3097.03\" cy=\"1452.20\" r=\"19.71\" style=\"fill:#000000\"/>\n",
       "\t<circle cx=\"3097.03\" cy=\"1452.20\" r=\"16.47\" style=\"fill:none;stroke:#000000;stroke-width:6.48\"/>\n",
       "\t<circle cx=\"3541.05\" cy=\"1611.49\" r=\"19.71\" style=\"fill:#000000\"/>\n",
       "\t<circle cx=\"3541.05\" cy=\"1611.49\" r=\"16.47\" style=\"fill:none;stroke:#000000;stroke-width:6.48\"/>\n",
       "\t<line x1=\"385.29\" y1=\"1807.51\" x2=\"385.29\" y2=\"221.94\" style=\"stroke:#000000;stroke-width:4.32\"/>\n",
       "\t<line x1=\"385.29\" y1=\"1759.99\" x2=\"355.32\" y2=\"1759.99\" style=\"stroke:#000000;stroke-width:4.32\"/>\n",
       "\t<text x=\"340.33\" y=\"1786.30\" style=\"font-family:'Helvetica';font-size:75.06px;fill:#000000\" text-anchor=\"end\">0</text>\n",
       "\t<line x1=\"385.29\" y1=\"1387.39\" x2=\"355.32\" y2=\"1387.39\" style=\"stroke:#000000;stroke-width:4.32\"/>\n",
       "\t<text x=\"340.33\" y=\"1413.70\" style=\"font-family:'Helvetica';font-size:75.06px;fill:#000000\" text-anchor=\"end\">10</text>\n",
       "\t<line x1=\"385.29\" y1=\"1014.80\" x2=\"355.32\" y2=\"1014.80\" style=\"stroke:#000000;stroke-width:4.32\"/>\n",
       "\t<text x=\"340.33\" y=\"1041.10\" style=\"font-family:'Helvetica';font-size:75.06px;fill:#000000\" text-anchor=\"end\">20</text>\n",
       "\t<line x1=\"385.29\" y1=\"642.06\" x2=\"355.32\" y2=\"642.06\" style=\"stroke:#000000;stroke-width:4.32\"/>\n",
       "\t<text x=\"340.33\" y=\"668.36\" style=\"font-family:'Helvetica';font-size:75.06px;fill:#000000\" text-anchor=\"end\">30</text>\n",
       "\t<line x1=\"385.29\" y1=\"269.46\" x2=\"355.32\" y2=\"269.46\" style=\"stroke:#000000;stroke-width:4.32\"/>\n",
       "\t<text x=\"340.33\" y=\"295.76\" style=\"font-family:'Helvetica';font-size:75.06px;fill:#000000\" text-anchor=\"end\">40</text>\n",
       "\t<text x=\"174.18\" y=\"1014.80\" style=\"font-family:'Helvetica';font-size:82.48px;fill:#000000\" transform=\"rotate(-90 174.18,1014.80)\" text-anchor=\"middle\">Miles Per Gallon</text>\n",
       "\t<line x1=\"385.29\" y1=\"1807.51\" x2=\"3588.70\" y2=\"1807.51\" style=\"stroke:#000000;stroke-width:4.32\"/>\n",
       "\t<line x1=\"432.81\" y1=\"1807.51\" x2=\"432.81\" y2=\"1837.62\" style=\"stroke:#000000;stroke-width:4.32\"/>\n",
       "\t<text x=\"432.81\" y=\"1905.08\" style=\"font-family:'Helvetica';font-size:75.06px;fill:#000000\" text-anchor=\"middle\">1,000</text>\n",
       "\t<line x1=\"876.83\" y1=\"1807.51\" x2=\"876.83\" y2=\"1837.62\" style=\"stroke:#000000;stroke-width:4.32\"/>\n",
       "\t<text x=\"876.83\" y=\"1905.08\" style=\"font-family:'Helvetica';font-size:75.06px;fill:#000000\" text-anchor=\"middle\">1,500</text>\n",
       "\t<line x1=\"1320.97\" y1=\"1807.51\" x2=\"1320.97\" y2=\"1837.62\" style=\"stroke:#000000;stroke-width:4.32\"/>\n",
       "\t<text x=\"1320.97\" y=\"1905.08\" style=\"font-family:'Helvetica';font-size:75.06px;fill:#000000\" text-anchor=\"middle\">2,000</text>\n",
       "\t<line x1=\"1764.99\" y1=\"1807.51\" x2=\"1764.99\" y2=\"1837.62\" style=\"stroke:#000000;stroke-width:4.32\"/>\n",
       "\t<text x=\"1764.99\" y=\"1905.08\" style=\"font-family:'Helvetica';font-size:75.06px;fill:#000000\" text-anchor=\"middle\">2,500</text>\n",
       "\t<line x1=\"2209.01\" y1=\"1807.51\" x2=\"2209.01\" y2=\"1837.62\" style=\"stroke:#000000;stroke-width:4.32\"/>\n",
       "\t<text x=\"2209.01\" y=\"1905.08\" style=\"font-family:'Helvetica';font-size:75.06px;fill:#000000\" text-anchor=\"middle\">3,000</text>\n",
       "\t<line x1=\"2653.02\" y1=\"1807.51\" x2=\"2653.02\" y2=\"1837.62\" style=\"stroke:#000000;stroke-width:4.32\"/>\n",
       "\t<text x=\"2653.02\" y=\"1905.08\" style=\"font-family:'Helvetica';font-size:75.06px;fill:#000000\" text-anchor=\"middle\">3,500</text>\n",
       "\t<line x1=\"3097.03\" y1=\"1807.51\" x2=\"3097.03\" y2=\"1837.62\" style=\"stroke:#000000;stroke-width:4.32\"/>\n",
       "\t<text x=\"3097.03\" y=\"1905.08\" style=\"font-family:'Helvetica';font-size:75.06px;fill:#000000\" text-anchor=\"middle\">4,000</text>\n",
       "\t<line x1=\"3541.18\" y1=\"1807.51\" x2=\"3541.18\" y2=\"1837.62\" style=\"stroke:#000000;stroke-width:4.32\"/>\n",
       "\t<text x=\"3541.18\" y=\"1905.08\" style=\"font-family:'Helvetica';font-size:75.06px;fill:#000000\" text-anchor=\"middle\">4,500</text>\n",
       "\t<text x=\"1986.93\" y=\"2018.68\" style=\"font-family:'Helvetica';font-size:82.48px;fill:#000000\" text-anchor=\"middle\">Vehicle Weight in Pounds</text>\n",
       "\t<rect x=\"3614.62\" y=\"1536.84\" width=\"603.85\" height=\"244.75\" style=\"fill:#FFFFFF\"/>\n",
       "\t<rect x=\"3616.78\" y=\"1539.00\" width=\"599.53\" height=\"240.43\" style=\"fill:none;stroke:#FFFFFF;stroke-width:4.32\"/>\n",
       "\t<line x1=\"3647.03\" y1=\"1606.77\" x2=\"3819.82\" y2=\"1606.77\" style=\"stroke:#000000;stroke-width:6.48\"/>\n",
       "\t<circle cx=\"3733.43\" cy=\"1606.77\" r=\"16.47\" style=\"fill:none;stroke:#000000;stroke-width:6.48\"/>\n",
       "\t<line x1=\"3647.03\" y1=\"1711.80\" x2=\"3819.82\" y2=\"1711.80\" style=\"stroke:#000000;stroke-width:6.48\"/>\n",
       "\t<circle cx=\"3733.43\" cy=\"1711.80\" r=\"19.71\" style=\"fill:#000000\"/>\n",
       "\t<circle cx=\"3733.43\" cy=\"1711.80\" r=\"16.47\" style=\"fill:none;stroke:#000000;stroke-width:6.48\"/>\n",
       "\t<text x=\"3864.78\" y=\"1633.07\" style=\"font-family:'Helvetica';font-size:75.06px;fill:#000000\">Domestic</text>\n",
       "\t<text x=\"3864.78\" y=\"1738.10\" style=\"font-family:'Helvetica';font-size:75.06px;fill:#000000\">Foreign</text>\n",
       "\t<text x=\"2160.00\" y=\"167.60\" style=\"font-family:'Helvetica';font-size:94.50px;fill:#000000\" text-anchor=\"middle\">Predicted margins of miles per gallon by vehicle weight</text>\n",
       "</svg>\n"
      ],
      "text/plain": [
       "This front-end cannot display the desired image type."
      ]
     },
     "metadata": {
      "image/svg+xml": {
       "height": 300,
       "width": 600
      }
     },
     "output_type": "display_data"
    },
    {
     "name": "stdout",
     "output_type": "stream",
     "text": [
      "\n",
      "\n",
      ". global stata_kernel_graph_counter = $stata_kernel_graph_counter + 1        \n"
     ]
    }
   ],
   "source": [
    "marginsplot, noci scheme(lean2wide) ///\n",
    "title(Predicted margins of miles per gallon by vehicle weight) ///\n",
    "ytitle(Miles Per Gallon) xtitle(Vehicle Weight in Pounds)"
   ]
  },
  {
   "cell_type": "code",
   "execution_count": 6,
   "metadata": {},
   "outputs": [
    {
     "name": "stdout",
     "output_type": "stream",
     "text": [
      "\n",
      "----------------------------------------------------------------------------------------------------\n",
      "-> foreign = Domestic\n",
      "\n",
      "    Variable |        Obs        Mean    Std. Dev.       Min        Max\n",
      "-------------+---------------------------------------------------------\n",
      "         mpg |         52    19.82692    4.743297         12         34\n",
      "\n",
      "----------------------------------------------------------------------------------------------------\n",
      "-> foreign = Foreign\n",
      "\n",
      "    Variable |        Obs        Mean    Std. Dev.       Min        Max\n",
      "-------------+---------------------------------------------------------\n",
      "         mpg |         22    24.77273    6.611187         14         41\n",
      "\n"
     ]
    }
   ],
   "source": [
    "bysort foreign: sum mpg"
   ]
  },
  {
   "cell_type": "code",
   "execution_count": 7,
   "metadata": {},
   "outputs": [
    {
     "name": "stdout",
     "output_type": "stream",
     "text": [
      "\n",
      "    Variable |        Obs        Mean    Std. Dev.       Min        Max\n",
      "-------------+---------------------------------------------------------\n",
      "      weight |         74    3019.459    777.1936       1760       4840\n"
     ]
    }
   ],
   "source": [
    "sum weight"
   ]
  },
  {
   "cell_type": "code",
   "execution_count": null,
   "metadata": {},
   "outputs": [],
   "source": []
  }
 ],
 "metadata": {
  "kernelspec": {
   "display_name": "Stata",
   "language": "stata",
   "name": "stata"
  },
  "language_info": {
   "file_extension": ".do",
   "mimetype": "text/x-stata",
   "name": "stata"
  }
 },
 "nbformat": 4,
 "nbformat_minor": 2
}
