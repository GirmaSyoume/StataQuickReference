{
 "cells": [
  {
   "cell_type": "markdown",
   "metadata": {},
   "source": [
    "# Overview of Auto.dta\n",
    "\n",
    "A Stata provided data set known as `auto.dta` is a common reference for testing and demonstration purposes. This code and its output provides an overview of the classic `auto.dta` dataset. This resource is intended for two audiences:\n",
    "\n",
    "1) Audiences that are familiar with `auto.dta` (and Stata) and that are looking to learn more about data analysis in Python.\n",
    "\n",
    "2) Audiences that are familiar with data analysis in Python and that are looking to learn more about Stata.\n",
    "\n",
    "This notebook is an implementation of [10 Simple Hacks To Speed... Data Analysis...](https://medium.com/p/10-simple-hacks-to-speed-up-your-data-analysis-in-python-ec18c6396e6b). The article's implemenation was pre version 2.0.0. The imlemenation below is 2.0.0+ syntax."
   ]
  },
  {
   "cell_type": "code",
   "execution_count": 1,
   "metadata": {},
   "outputs": [],
   "source": [
    "import pandas as pd\n",
    "import pandas_profiling"
   ]
  },
  {
   "cell_type": "code",
   "execution_count": 2,
   "metadata": {},
   "outputs": [],
   "source": [
    "df = pd.read_stata('http://www.stata-press.com/data/r15/auto2.dta')"
   ]
  },
  {
   "cell_type": "code",
   "execution_count": 3,
   "metadata": {},
   "outputs": [],
   "source": [
    "profile = df.profile_report()\n",
    "rejected = profile.get_rejected_variables()\n",
    "profile = df.profile_report(title='Stata Auto.dta Pandas Profiled',\n",
    "                            correlation_overrides=rejected)"
   ]
  },
  {
   "cell_type": "code",
   "execution_count": 4,
   "metadata": {},
   "outputs": [],
   "source": [
    "profile.to_file(output_file='Classic_Auto.dta_Profile.html')"
   ]
  },
  {
   "cell_type": "markdown",
   "metadata": {},
   "source": [
    "The `Classic_Auto.dta_Profile.html` output is available [here](Classic_Auto.dta_Profile.html)."
   ]
  },
  {
   "cell_type": "code",
   "execution_count": 5,
   "metadata": {},
   "outputs": [
    {
     "data": {
      "text/html": [
       "\n",
       "        <iframe\n",
       "            width=\"100%\"\n",
       "            height=\"800px\"\n",
       "            src=\"ipynb_tmp/profile_9146201136.html\"\n",
       "            frameborder=\"0\"\n",
       "            allowfullscreen\n",
       "        ></iframe>\n",
       "        "
      ],
      "text/plain": [
       "<IPython.lib.display.IFrame at 0x1a2245d518>"
      ]
     },
     "metadata": {},
     "output_type": "display_data"
    },
    {
     "data": {
      "text/plain": []
     },
     "execution_count": 5,
     "metadata": {},
     "output_type": "execute_result"
    }
   ],
   "source": [
    "profile"
   ]
  },
  {
   "cell_type": "code",
   "execution_count": null,
   "metadata": {},
   "outputs": [],
   "source": []
  }
 ],
 "metadata": {
  "kernelspec": {
   "display_name": "Python 3",
   "language": "python",
   "name": "python3"
  },
  "language_info": {
   "codemirror_mode": {
    "name": "ipython",
    "version": 3
   },
   "file_extension": ".py",
   "mimetype": "text/x-python",
   "name": "python",
   "nbconvert_exporter": "python",
   "pygments_lexer": "ipython3",
   "version": "3.6.4"
  }
 },
 "nbformat": 4,
 "nbformat_minor": 2
}
